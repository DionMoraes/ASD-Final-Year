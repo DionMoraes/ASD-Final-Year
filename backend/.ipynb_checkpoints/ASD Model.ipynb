{
 "cells": [
  {
   "cell_type": "code",
   "execution_count": 1,
   "id": "74800a1a",
   "metadata": {},
   "outputs": [
    {
     "name": "stdout",
     "output_type": "stream",
     "text": [
      "Requirement already satisfied: tensorflow in c:\\users\\gonsa\\appdata\\roaming\\python\\python37\\site-packages (2.9.0)\n",
      "Requirement already satisfied: keras in c:\\users\\gonsa\\appdata\\local\\programs\\python\\python37\\lib\\site-packages (2.9.0)\n",
      "Requirement already satisfied: opencv-python in c:\\users\\gonsa\\appdata\\local\\programs\\python\\python37\\lib\\site-packages (4.10.0.84)\n",
      "Requirement already satisfied: matplotlib in c:\\users\\gonsa\\appdata\\local\\programs\\python\\python37\\lib\\site-packages (3.5.3)\n",
      "Requirement already satisfied: seaborn in c:\\users\\gonsa\\appdata\\local\\programs\\python\\python37\\lib\\site-packages (0.12.2)\n",
      "Requirement already satisfied: absl-py>=1.0.0 in c:\\users\\gonsa\\appdata\\local\\programs\\python\\python37\\lib\\site-packages (from tensorflow) (2.1.0)\n",
      "Requirement already satisfied: astunparse>=1.6.0 in c:\\users\\gonsa\\appdata\\local\\programs\\python\\python37\\lib\\site-packages (from tensorflow) (1.6.3)\n",
      "Requirement already satisfied: flatbuffers<2,>=1.12 in c:\\users\\gonsa\\appdata\\local\\programs\\python\\python37\\lib\\site-packages (from tensorflow) (1.12)\n",
      "Requirement already satisfied: gast<=0.4.0,>=0.2.1 in c:\\users\\gonsa\\appdata\\local\\programs\\python\\python37\\lib\\site-packages (from tensorflow) (0.4.0)\n",
      "Requirement already satisfied: google-pasta>=0.1.1 in c:\\users\\gonsa\\appdata\\local\\programs\\python\\python37\\lib\\site-packages (from tensorflow) (0.2.0)\n",
      "Requirement already satisfied: h5py>=2.9.0 in c:\\users\\gonsa\\appdata\\local\\programs\\python\\python37\\lib\\site-packages (from tensorflow) (3.8.0)\n",
      "Requirement already satisfied: keras-preprocessing>=1.1.1 in c:\\users\\gonsa\\appdata\\local\\programs\\python\\python37\\lib\\site-packages (from tensorflow) (1.1.2)\n",
      "Requirement already satisfied: libclang>=13.0.0 in c:\\users\\gonsa\\appdata\\local\\programs\\python\\python37\\lib\\site-packages (from tensorflow) (18.1.1)\n",
      "Requirement already satisfied: numpy>=1.20 in c:\\users\\gonsa\\appdata\\roaming\\python\\python37\\site-packages (from tensorflow) (1.21.6)\n",
      "Requirement already satisfied: opt-einsum>=2.3.2 in c:\\users\\gonsa\\appdata\\local\\programs\\python\\python37\\lib\\site-packages (from tensorflow) (3.3.0)\n",
      "Requirement already satisfied: packaging in c:\\users\\gonsa\\appdata\\local\\programs\\python\\python37\\lib\\site-packages (from tensorflow) (20.9)\n",
      "Requirement already satisfied: protobuf>=3.9.2 in c:\\users\\gonsa\\appdata\\local\\programs\\python\\python37\\lib\\site-packages (from tensorflow) (3.20.0)\n",
      "Requirement already satisfied: setuptools in c:\\users\\gonsa\\appdata\\local\\programs\\python\\python37\\lib\\site-packages (from tensorflow) (68.0.0)\n",
      "Requirement already satisfied: six>=1.12.0 in c:\\users\\gonsa\\appdata\\roaming\\python\\python37\\site-packages (from tensorflow) (1.16.0)\n",
      "Requirement already satisfied: termcolor>=1.1.0 in c:\\users\\gonsa\\appdata\\local\\programs\\python\\python37\\lib\\site-packages (from tensorflow) (2.3.0)\n",
      "Requirement already satisfied: typing-extensions>=3.6.6 in c:\\users\\gonsa\\appdata\\roaming\\python\\python37\\site-packages (from tensorflow) (4.7.1)\n",
      "Requirement already satisfied: wrapt>=1.11.0 in c:\\users\\gonsa\\appdata\\local\\programs\\python\\python37\\lib\\site-packages (from tensorflow) (1.16.0)\n",
      "Requirement already satisfied: tensorflow-io-gcs-filesystem>=0.23.1 in c:\\users\\gonsa\\appdata\\local\\programs\\python\\python37\\lib\\site-packages (from tensorflow) (0.31.0)\n",
      "Requirement already satisfied: grpcio<2.0,>=1.24.3 in c:\\users\\gonsa\\appdata\\local\\programs\\python\\python37\\lib\\site-packages (from tensorflow) (1.62.3)\n",
      "Requirement already satisfied: tensorboard<2.10,>=2.9 in c:\\users\\gonsa\\appdata\\local\\programs\\python\\python37\\lib\\site-packages (from tensorflow) (2.9.0)\n",
      "Requirement already satisfied: tensorflow-estimator<2.10.0,>=2.9.0rc0 in c:\\users\\gonsa\\appdata\\local\\programs\\python\\python37\\lib\\site-packages (from tensorflow) (2.9.0)\n",
      "Requirement already satisfied: cycler>=0.10 in c:\\users\\gonsa\\appdata\\local\\programs\\python\\python37\\lib\\site-packages (from matplotlib) (0.11.0)\n",
      "Requirement already satisfied: fonttools>=4.22.0 in c:\\users\\gonsa\\appdata\\local\\programs\\python\\python37\\lib\\site-packages (from matplotlib) (4.38.0)\n",
      "Requirement already satisfied: kiwisolver>=1.0.1 in c:\\users\\gonsa\\appdata\\local\\programs\\python\\python37\\lib\\site-packages (from matplotlib) (1.4.5)\n",
      "Requirement already satisfied: pillow>=6.2.0 in c:\\users\\gonsa\\appdata\\local\\programs\\python\\python37\\lib\\site-packages (from matplotlib) (9.5.0)\n",
      "Requirement already satisfied: pyparsing>=2.2.1 in c:\\users\\gonsa\\appdata\\local\\programs\\python\\python37\\lib\\site-packages (from matplotlib) (3.1.2)\n",
      "Requirement already satisfied: python-dateutil>=2.7 in c:\\users\\gonsa\\appdata\\roaming\\python\\python37\\site-packages (from matplotlib) (2.9.0.post0)\n",
      "Requirement already satisfied: pandas>=0.25 in c:\\users\\gonsa\\appdata\\local\\programs\\python\\python37\\lib\\site-packages (from seaborn) (1.3.3)\n",
      "Requirement already satisfied: wheel<1.0,>=0.23.0 in c:\\users\\gonsa\\appdata\\local\\programs\\python\\python37\\lib\\site-packages (from astunparse>=1.6.0->tensorflow) (0.42.0)\n",
      "Requirement already satisfied: pytz>=2017.3 in c:\\users\\gonsa\\appdata\\roaming\\python\\python37\\site-packages (from pandas>=0.25->seaborn) (2024.1)\n",
      "Requirement already satisfied: google-auth<3,>=1.6.3 in c:\\users\\gonsa\\appdata\\local\\programs\\python\\python37\\lib\\site-packages (from tensorboard<2.10,>=2.9->tensorflow) (2.33.0)\n",
      "Requirement already satisfied: google-auth-oauthlib<0.5,>=0.4.1 in c:\\users\\gonsa\\appdata\\local\\programs\\python\\python37\\lib\\site-packages (from tensorboard<2.10,>=2.9->tensorflow) (0.4.6)\n",
      "Requirement already satisfied: markdown>=2.6.8 in c:\\users\\gonsa\\appdata\\local\\programs\\python\\python37\\lib\\site-packages (from tensorboard<2.10,>=2.9->tensorflow) (3.4.4)\n",
      "Requirement already satisfied: requests<3,>=2.21.0 in c:\\users\\gonsa\\appdata\\local\\programs\\python\\python37\\lib\\site-packages (from tensorboard<2.10,>=2.9->tensorflow) (2.31.0)\n",
      "Requirement already satisfied: tensorboard-data-server<0.7.0,>=0.6.0 in c:\\users\\gonsa\\appdata\\local\\programs\\python\\python37\\lib\\site-packages (from tensorboard<2.10,>=2.9->tensorflow) (0.6.1)\n",
      "Requirement already satisfied: tensorboard-plugin-wit>=1.6.0 in c:\\users\\gonsa\\appdata\\local\\programs\\python\\python37\\lib\\site-packages (from tensorboard<2.10,>=2.9->tensorflow) (1.8.1)\n",
      "Requirement already satisfied: werkzeug>=1.0.1 in c:\\users\\gonsa\\appdata\\roaming\\python\\python37\\site-packages (from tensorboard<2.10,>=2.9->tensorflow) (2.2.3)\n",
      "Requirement already satisfied: cachetools<6.0,>=2.0.0 in c:\\users\\gonsa\\appdata\\local\\programs\\python\\python37\\lib\\site-packages (from google-auth<3,>=1.6.3->tensorboard<2.10,>=2.9->tensorflow) (5.4.0)\n",
      "Requirement already satisfied: pyasn1-modules>=0.2.1 in c:\\users\\gonsa\\appdata\\local\\programs\\python\\python37\\lib\\site-packages (from google-auth<3,>=1.6.3->tensorboard<2.10,>=2.9->tensorflow) (0.3.0)\n",
      "Requirement already satisfied: rsa<5,>=3.1.4 in c:\\users\\gonsa\\appdata\\local\\programs\\python\\python37\\lib\\site-packages (from google-auth<3,>=1.6.3->tensorboard<2.10,>=2.9->tensorflow) (4.9)\n",
      "Requirement already satisfied: requests-oauthlib>=0.7.0 in c:\\users\\gonsa\\appdata\\local\\programs\\python\\python37\\lib\\site-packages (from google-auth-oauthlib<0.5,>=0.4.1->tensorboard<2.10,>=2.9->tensorflow) (2.0.0)\n",
      "Requirement already satisfied: importlib-metadata>=4.4 in c:\\users\\gonsa\\appdata\\roaming\\python\\python37\\site-packages (from markdown>=2.6.8->tensorboard<2.10,>=2.9->tensorflow) (6.7.0)\n",
      "Requirement already satisfied: charset-normalizer<4,>=2 in c:\\users\\gonsa\\appdata\\local\\programs\\python\\python37\\lib\\site-packages (from requests<3,>=2.21.0->tensorboard<2.10,>=2.9->tensorflow) (3.3.2)\n",
      "Requirement already satisfied: idna<4,>=2.5 in c:\\users\\gonsa\\appdata\\local\\programs\\python\\python37\\lib\\site-packages (from requests<3,>=2.21.0->tensorboard<2.10,>=2.9->tensorflow) (3.7)\n",
      "Requirement already satisfied: urllib3<3,>=1.21.1 in c:\\users\\gonsa\\appdata\\local\\programs\\python\\python37\\lib\\site-packages (from requests<3,>=2.21.0->tensorboard<2.10,>=2.9->tensorflow) (2.0.7)\n",
      "Requirement already satisfied: certifi>=2017.4.17 in c:\\users\\gonsa\\appdata\\local\\programs\\python\\python37\\lib\\site-packages (from requests<3,>=2.21.0->tensorboard<2.10,>=2.9->tensorflow) (2024.7.4)\n",
      "Requirement already satisfied: MarkupSafe>=2.1.1 in c:\\users\\gonsa\\appdata\\roaming\\python\\python37\\site-packages (from werkzeug>=1.0.1->tensorboard<2.10,>=2.9->tensorflow) (2.1.5)\n",
      "Requirement already satisfied: zipp>=0.5 in c:\\users\\gonsa\\appdata\\roaming\\python\\python37\\site-packages (from importlib-metadata>=4.4->markdown>=2.6.8->tensorboard<2.10,>=2.9->tensorflow) (3.15.0)\n",
      "Requirement already satisfied: pyasn1<0.6.0,>=0.4.6 in c:\\users\\gonsa\\appdata\\local\\programs\\python\\python37\\lib\\site-packages (from pyasn1-modules>=0.2.1->google-auth<3,>=1.6.3->tensorboard<2.10,>=2.9->tensorflow) (0.5.1)\n",
      "Requirement already satisfied: oauthlib>=3.0.0 in c:\\users\\gonsa\\appdata\\local\\programs\\python\\python37\\lib\\site-packages (from requests-oauthlib>=0.7.0->google-auth-oauthlib<0.5,>=0.4.1->tensorboard<2.10,>=2.9->tensorflow) (3.2.2)\n"
     ]
    }
   ],
   "source": [
    "!pip install tensorflow keras opencv-python matplotlib seaborn"
   ]
  },
  {
   "cell_type": "code",
   "execution_count": 2,
   "id": "ac4c1d04",
   "metadata": {},
   "outputs": [],
   "source": [
    "import tensorflow as tf\n",
    "from tensorflow import keras\n",
    "from tensorflow.keras.models import Sequential\n",
    "from tensorflow.keras.layers import Conv2D, MaxPooling2D, Flatten, Dense, Dropout\n",
    "from tensorflow.keras.preprocessing.image import ImageDataGenerator\n",
    "import numpy as np\n",
    "import matplotlib.pyplot as plt\n",
    "import os\n",
    "import cv2\n"
   ]
  },
  {
   "cell_type": "code",
   "execution_count": 3,
   "id": "7ad1edd2",
   "metadata": {},
   "outputs": [
    {
     "name": "stdout",
     "output_type": "stream",
     "text": [
      "Dataset restructured successfully!\n",
      "Train directory exists: True\n",
      "Test directory exists: True\n",
      "Valid directory exists: True\n",
      "Train classes: ['Autistic', 'Non_Autistic']\n",
      "Test classes: ['Autistic', 'Non_Autistic']\n",
      "Valid classes: ['Autistic', 'Non_Autistic']\n",
      "Dataset restructured successfully!\n",
      "Training files: 2\n",
      "Testing files: 2\n"
     ]
    }
   ],
   "source": [
    "import zipfile\n",
    "import os\n",
    "import shutil\n",
    "# Define paths\n",
    "train_dir = r\"C:\\Users\\gonsa\\OneDrive\\Desktop\\ASD22\\train\"\n",
    "test_dir = r\"C:\\Users\\gonsa\\OneDrive\\Desktop\\ASD22\\test\"\n",
    "valid_dir = r\"C:\\Users\\gonsa\\OneDrive\\Desktop\\ASD22\\valid\"\n",
    "\n",
    "# Ensure subdirectories exist\n",
    "for sub_dir in [\"Autistic\", \"Non_Autistic\"]:\n",
    "    os.makedirs(os.path.join(train_dir, sub_dir), exist_ok=True)\n",
    "    os.makedirs(os.path.join(test_dir, sub_dir), exist_ok=True)\n",
    "    os.makedirs(os.path.join(valid_dir, sub_dir), exist_ok=True)\n",
    "\n",
    "# Function to move only image files and avoid directories\n",
    "def organize_images(directory):\n",
    "    for filename in os.listdir(directory):\n",
    "        file_path = os.path.join(directory, filename)\n",
    "\n",
    "        # Skip directories\n",
    "        if os.path.isdir(file_path):\n",
    "            continue\n",
    "\n",
    "        # Move images to respective folders\n",
    "        if filename.startswith(\"Autistic\"):\n",
    "            shutil.move(file_path, os.path.join(directory, \"Autistic\", filename))\n",
    "        elif filename.startswith(\"Non_Autistic\"):\n",
    "            shutil.move(file_path, os.path.join(directory, \"Non_Autistic\", filename))\n",
    "\n",
    "# Organize images for train, test, and valid datasets\n",
    "organize_images(train_dir)\n",
    "organize_images(test_dir)\n",
    "organize_images(valid_dir)\n",
    "\n",
    "print(\"Dataset restructured successfully!\")\n",
    "\n",
    "\n",
    "# Check if the directories exist\n",
    "print(\"Train directory exists:\", os.path.exists(train_dir))\n",
    "print(\"Test directory exists:\", os.path.exists(test_dir))\n",
    "print(\"Valid directory exists:\", os.path.exists(valid_dir))\n",
    "\n",
    "# Print class directories inside train, test, and valid\n",
    "print(\"Train classes:\", os.listdir(train_dir) if os.path.exists(train_dir) else \"Not found\")\n",
    "print(\"Test classes:\", os.listdir(test_dir) if os.path.exists(test_dir) else \"Not found\")\n",
    "print(\"Valid classes:\", os.listdir(valid_dir) if os.path.exists(valid_dir) else \"Not found\")\n",
    "\n",
    "\n",
    "print(\"Dataset restructured successfully!\")\n",
    "\n",
    "\n",
    "\n",
    "\n",
    "\n",
    "print(\"Training files:\", len(os.listdir(train_dir)))  # Should be > 0\n",
    "print(\"Testing files:\", len(os.listdir(test_dir)))\n",
    "\n",
    "\n"
   ]
  },
  {
   "cell_type": "code",
   "execution_count": 4,
   "id": "c2ec4058",
   "metadata": {},
   "outputs": [],
   "source": [
    "IMG_SIZE = 128  # Resize images to 128x128\n",
    "BATCH_SIZE = 16\n",
    "\n"
   ]
  },
  {
   "cell_type": "code",
   "execution_count": 5,
   "id": "6f724fc1",
   "metadata": {},
   "outputs": [
    {
     "name": "stdout",
     "output_type": "stream",
     "text": [
      "Found 2540 images belonging to 2 classes.\n",
      "Found 100 images belonging to 2 classes.\n",
      "159\n",
      "7\n",
      "X_batch shape: (16, 128, 128, 3)\n",
      "y_batch shape: (16,)\n",
      "Training files: 2\n",
      "Testing files: 2\n"
     ]
    }
   ],
   "source": [
    "datagen = ImageDataGenerator(\n",
    "    rescale=1./255,\n",
    "    validation_split=0.2  # 80-20 train-test split\n",
    ")\n",
    "\n",
    "train_data = datagen.flow_from_directory(\n",
    "    train_dir,  # Changed from '/content/dataset' to train_dir\n",
    "    target_size=(IMG_SIZE, IMG_SIZE),\n",
    "    batch_size=BATCH_SIZE,\n",
    "    class_mode='binary',\n",
    "\n",
    ")\n",
    "\n",
    "test_data = datagen.flow_from_directory(\n",
    "    valid_dir, # Changed from '/content/dataset' to valid_dir\n",
    "    target_size=(IMG_SIZE, IMG_SIZE),\n",
    "    batch_size=BATCH_SIZE,\n",
    "    class_mode='binary',\n",
    "    # You may remove 'subset' if you're using validation_split in ImageDataGenerator\n",
    ")\n",
    "# Now you can safely get the length of train_data and test_data\n",
    "print(len(train_data))  # Should not be 0\n",
    "print(len(test_data))   # Should not be 0\n",
    "\n",
    "# Get a batch of data\n",
    "X_batch, y_batch = next(train_data)\n",
    "\n",
    "# Print information about the batch\n",
    "print(\"X_batch shape:\", X_batch.shape)  # Shape of image data\n",
    "print(\"y_batch shape:\", y_batch.shape)  # Shape of labels\n",
    "\n",
    "print(\"Training files:\", len(os.listdir(train_dir)))  # Should be > 0\n",
    "print(\"Testing files:\", len(os.listdir(test_dir)))"
   ]
  },
  {
   "cell_type": "code",
   "execution_count": 6,
   "id": "796f5762",
   "metadata": {},
   "outputs": [
    {
     "name": "stdout",
     "output_type": "stream",
     "text": [
      "Model: \"sequential\"\n",
      "_________________________________________________________________\n",
      " Layer (type)                Output Shape              Param #   \n",
      "=================================================================\n",
      " conv2d (Conv2D)             (None, 126, 126, 32)      896       \n",
      "                                                                 \n",
      " max_pooling2d (MaxPooling2D  (None, 63, 63, 32)       0         \n",
      " )                                                               \n",
      "                                                                 \n",
      " conv2d_1 (Conv2D)           (None, 61, 61, 64)        18496     \n",
      "                                                                 \n",
      " max_pooling2d_1 (MaxPooling  (None, 30, 30, 64)       0         \n",
      " 2D)                                                             \n",
      "                                                                 \n",
      " conv2d_2 (Conv2D)           (None, 28, 28, 128)       73856     \n",
      "                                                                 \n",
      " max_pooling2d_2 (MaxPooling  (None, 14, 14, 128)      0         \n",
      " 2D)                                                             \n",
      "                                                                 \n",
      " flatten (Flatten)           (None, 25088)             0         \n",
      "                                                                 \n",
      " dense (Dense)               (None, 128)               3211392   \n",
      "                                                                 \n",
      " dropout (Dropout)           (None, 128)               0         \n",
      "                                                                 \n",
      " dense_1 (Dense)             (None, 1)                 129       \n",
      "                                                                 \n",
      "=================================================================\n",
      "Total params: 3,304,769\n",
      "Trainable params: 3,304,769\n",
      "Non-trainable params: 0\n",
      "_________________________________________________________________\n"
     ]
    }
   ],
   "source": [
    "model = Sequential([\n",
    "    Conv2D(32, (3,3), activation='relu', input_shape=(IMG_SIZE, IMG_SIZE, 3)),\n",
    "    MaxPooling2D(2,2),\n",
    "\n",
    "    Conv2D(64, (3,3), activation='relu'),\n",
    "    MaxPooling2D(2,2),\n",
    "\n",
    "    Conv2D(128, (3,3), activation='relu'),\n",
    "    MaxPooling2D(2,2),\n",
    "\n",
    "    Flatten(),\n",
    "    Dense(128, activation='relu'),\n",
    "    Dropout(0.5),\n",
    "    Dense(1, activation='sigmoid')  # Binary classification (ASD/Non-ASD)\n",
    "])\n",
    "\n",
    "model.compile(optimizer='adam',\n",
    "              loss='binary_crossentropy',\n",
    "              metrics=['accuracy'])\n",
    "\n",
    "model.summary()\n"
   ]
  },
  {
   "cell_type": "code",
   "execution_count": 7,
   "id": "ea47117d",
   "metadata": {},
   "outputs": [
    {
     "name": "stdout",
     "output_type": "stream",
     "text": [
      "Epoch 1/30\n",
      "159/159 [==============================] - 25s 150ms/step - loss: 0.6466 - accuracy: 0.6303 - val_loss: 0.5724 - val_accuracy: 0.6800\n",
      "Epoch 2/30\n",
      "159/159 [==============================] - 25s 157ms/step - loss: 0.5778 - accuracy: 0.7031 - val_loss: 0.5227 - val_accuracy: 0.7500\n",
      "Epoch 3/30\n",
      "159/159 [==============================] - 28s 173ms/step - loss: 0.5457 - accuracy: 0.7315 - val_loss: 0.4975 - val_accuracy: 0.7200\n",
      "Epoch 4/30\n",
      "159/159 [==============================] - 27s 169ms/step - loss: 0.5134 - accuracy: 0.7500 - val_loss: 0.4534 - val_accuracy: 0.7800\n",
      "Epoch 5/30\n",
      "159/159 [==============================] - 27s 171ms/step - loss: 0.4867 - accuracy: 0.7650 - val_loss: 0.4695 - val_accuracy: 0.7700\n",
      "Epoch 6/30\n",
      "159/159 [==============================] - 26s 166ms/step - loss: 0.4447 - accuracy: 0.7894 - val_loss: 0.4463 - val_accuracy: 0.7800\n",
      "Epoch 7/30\n",
      "159/159 [==============================] - 26s 162ms/step - loss: 0.4176 - accuracy: 0.8094 - val_loss: 0.4931 - val_accuracy: 0.7500\n",
      "Epoch 8/30\n",
      "159/159 [==============================] - 26s 161ms/step - loss: 0.3849 - accuracy: 0.8256 - val_loss: 0.5611 - val_accuracy: 0.7400\n",
      "Epoch 9/30\n",
      "159/159 [==============================] - 26s 161ms/step - loss: 0.3446 - accuracy: 0.8531 - val_loss: 0.4940 - val_accuracy: 0.7300\n",
      "Epoch 10/30\n",
      "159/159 [==============================] - 25s 158ms/step - loss: 0.2866 - accuracy: 0.8701 - val_loss: 0.5617 - val_accuracy: 0.7300\n",
      "Epoch 11/30\n",
      "159/159 [==============================] - 25s 159ms/step - loss: 0.2495 - accuracy: 0.9024 - val_loss: 0.5602 - val_accuracy: 0.7200\n",
      "Epoch 12/30\n",
      "159/159 [==============================] - 27s 169ms/step - loss: 0.1946 - accuracy: 0.9201 - val_loss: 0.4919 - val_accuracy: 0.7300\n",
      "Epoch 13/30\n",
      "159/159 [==============================] - 26s 165ms/step - loss: 0.1542 - accuracy: 0.9449 - val_loss: 0.5365 - val_accuracy: 0.7300\n",
      "Epoch 14/30\n",
      "159/159 [==============================] - 26s 165ms/step - loss: 0.1308 - accuracy: 0.9469 - val_loss: 0.5939 - val_accuracy: 0.7600\n",
      "Epoch 15/30\n",
      "159/159 [==============================] - 26s 164ms/step - loss: 0.1126 - accuracy: 0.9575 - val_loss: 0.7574 - val_accuracy: 0.7500\n",
      "Epoch 16/30\n",
      "159/159 [==============================] - 27s 167ms/step - loss: 0.0887 - accuracy: 0.9693 - val_loss: 0.7601 - val_accuracy: 0.7500\n",
      "Epoch 17/30\n",
      "159/159 [==============================] - 26s 164ms/step - loss: 0.1118 - accuracy: 0.9528 - val_loss: 0.7425 - val_accuracy: 0.7700\n",
      "Epoch 18/30\n",
      "159/159 [==============================] - 26s 164ms/step - loss: 0.0582 - accuracy: 0.9791 - val_loss: 0.9133 - val_accuracy: 0.7200\n",
      "Epoch 19/30\n",
      "159/159 [==============================] - 26s 165ms/step - loss: 0.0563 - accuracy: 0.9803 - val_loss: 0.9054 - val_accuracy: 0.7500\n",
      "Epoch 20/30\n",
      "159/159 [==============================] - 26s 163ms/step - loss: 0.0460 - accuracy: 0.9846 - val_loss: 1.2485 - val_accuracy: 0.7200\n",
      "Epoch 21/30\n",
      "159/159 [==============================] - 28s 174ms/step - loss: 0.0691 - accuracy: 0.9764 - val_loss: 1.2316 - val_accuracy: 0.7300\n",
      "Epoch 22/30\n",
      "159/159 [==============================] - 26s 163ms/step - loss: 0.0514 - accuracy: 0.9835 - val_loss: 0.8838 - val_accuracy: 0.7600\n",
      "Epoch 23/30\n",
      "159/159 [==============================] - 26s 163ms/step - loss: 0.0607 - accuracy: 0.9815 - val_loss: 0.8708 - val_accuracy: 0.7500\n",
      "Epoch 24/30\n",
      "159/159 [==============================] - 26s 163ms/step - loss: 0.0462 - accuracy: 0.9827 - val_loss: 0.9724 - val_accuracy: 0.7400\n",
      "Epoch 25/30\n",
      "159/159 [==============================] - 26s 164ms/step - loss: 0.0245 - accuracy: 0.9921 - val_loss: 1.1326 - val_accuracy: 0.7500\n",
      "Epoch 26/30\n",
      "159/159 [==============================] - 26s 161ms/step - loss: 0.0243 - accuracy: 0.9917 - val_loss: 1.4420 - val_accuracy: 0.7300\n",
      "Epoch 27/30\n",
      "159/159 [==============================] - 26s 162ms/step - loss: 0.0440 - accuracy: 0.9815 - val_loss: 1.4720 - val_accuracy: 0.7200\n",
      "Epoch 28/30\n",
      "159/159 [==============================] - 26s 161ms/step - loss: 0.0242 - accuracy: 0.9906 - val_loss: 1.0114 - val_accuracy: 0.7800\n",
      "Epoch 29/30\n",
      "159/159 [==============================] - 26s 163ms/step - loss: 0.0296 - accuracy: 0.9898 - val_loss: 2.0042 - val_accuracy: 0.7100\n",
      "Epoch 30/30\n",
      "159/159 [==============================] - 26s 166ms/step - loss: 0.0358 - accuracy: 0.9882 - val_loss: 1.2837 - val_accuracy: 0.7600\n"
     ]
    }
   ],
   "source": [
    "history = model.fit(\n",
    "    train_data,\n",
    "    validation_data=test_data,\n",
    "    epochs=30,\n",
    "    verbose=1\n",
    ")\n"
   ]
  },
  {
   "cell_type": "code",
   "execution_count": 8,
   "id": "3caf1ad0",
   "metadata": {},
   "outputs": [],
   "source": [
    "model.save(\"asd_cnn_model.h5\")"
   ]
  },
  {
   "cell_type": "code",
   "execution_count": 9,
   "id": "cbd3c622",
   "metadata": {},
   "outputs": [
    {
     "name": "stdout",
     "output_type": "stream",
     "text": [
      "Requirement already satisfied: streamlit in c:\\users\\gonsa\\appdata\\local\\programs\\python\\python37\\lib\\site-packages (1.23.1)\n",
      "Requirement already satisfied: altair<6,>=4.0 in c:\\users\\gonsa\\appdata\\local\\programs\\python\\python37\\lib\\site-packages (from streamlit) (5.0.1)\n",
      "Requirement already satisfied: blinker<2,>=1.0.0 in c:\\users\\gonsa\\appdata\\local\\programs\\python\\python37\\lib\\site-packages (from streamlit) (1.6.3)\n",
      "Requirement already satisfied: cachetools<6,>=4.0 in c:\\users\\gonsa\\appdata\\local\\programs\\python\\python37\\lib\\site-packages (from streamlit) (5.4.0)\n",
      "Requirement already satisfied: click<9,>=7.0 in c:\\users\\gonsa\\appdata\\roaming\\python\\python37\\site-packages (from streamlit) (8.1.7)\n",
      "Requirement already satisfied: importlib-metadata<7,>=1.4 in c:\\users\\gonsa\\appdata\\roaming\\python\\python37\\site-packages (from streamlit) (6.7.0)\n",
      "Requirement already satisfied: numpy<2,>=1 in c:\\users\\gonsa\\appdata\\roaming\\python\\python37\\site-packages (from streamlit) (1.21.6)\n",
      "Requirement already satisfied: packaging<24,>=14.1 in c:\\users\\gonsa\\appdata\\local\\programs\\python\\python37\\lib\\site-packages (from streamlit) (20.9)\n",
      "Requirement already satisfied: pandas<3,>=0.25 in c:\\users\\gonsa\\appdata\\local\\programs\\python\\python37\\lib\\site-packages (from streamlit) (1.3.3)\n",
      "Requirement already satisfied: pillow<10,>=6.2.0 in c:\\users\\gonsa\\appdata\\local\\programs\\python\\python37\\lib\\site-packages (from streamlit) (9.5.0)\n",
      "Requirement already satisfied: protobuf<5,>=3.20 in c:\\users\\gonsa\\appdata\\local\\programs\\python\\python37\\lib\\site-packages (from streamlit) (3.20.0)\n",
      "Requirement already satisfied: pyarrow>=4.0 in c:\\users\\gonsa\\appdata\\local\\programs\\python\\python37\\lib\\site-packages (from streamlit) (12.0.1)\n",
      "Requirement already satisfied: pympler<2,>=0.9 in c:\\users\\gonsa\\appdata\\local\\programs\\python\\python37\\lib\\site-packages (from streamlit) (1.1)\n",
      "Requirement already satisfied: python-dateutil<3,>=2 in c:\\users\\gonsa\\appdata\\roaming\\python\\python37\\site-packages (from streamlit) (2.9.0.post0)\n",
      "Requirement already satisfied: requests<3,>=2.4 in c:\\users\\gonsa\\appdata\\local\\programs\\python\\python37\\lib\\site-packages (from streamlit) (2.31.0)\n",
      "Requirement already satisfied: rich<14,>=10.11.0 in c:\\users\\gonsa\\appdata\\local\\programs\\python\\python37\\lib\\site-packages (from streamlit) (13.8.1)\n",
      "Requirement already satisfied: tenacity<9,>=8.0.0 in c:\\users\\gonsa\\appdata\\local\\programs\\python\\python37\\lib\\site-packages (from streamlit) (8.2.3)\n",
      "Requirement already satisfied: toml<2 in c:\\users\\gonsa\\appdata\\local\\programs\\python\\python37\\lib\\site-packages (from streamlit) (0.10.2)\n",
      "Requirement already satisfied: typing-extensions<5,>=4.0.1 in c:\\users\\gonsa\\appdata\\roaming\\python\\python37\\site-packages (from streamlit) (4.7.1)\n",
      "Requirement already satisfied: tzlocal<5,>=1.1 in c:\\users\\gonsa\\appdata\\local\\programs\\python\\python37\\lib\\site-packages (from streamlit) (4.3.1)\n",
      "Requirement already satisfied: validators<1,>=0.2 in c:\\users\\gonsa\\appdata\\local\\programs\\python\\python37\\lib\\site-packages (from streamlit) (0.20.0)\n",
      "Requirement already satisfied: gitpython!=3.1.19,<4,>=3 in c:\\users\\gonsa\\appdata\\local\\programs\\python\\python37\\lib\\site-packages (from streamlit) (3.1.44)\n",
      "Requirement already satisfied: pydeck<1,>=0.1.dev5 in c:\\users\\gonsa\\appdata\\local\\programs\\python\\python37\\lib\\site-packages (from streamlit) (0.8.1b1)\n",
      "Requirement already satisfied: tornado<7,>=6.0.3 in c:\\users\\gonsa\\appdata\\local\\programs\\python\\python37\\lib\\site-packages (from streamlit) (6.2)\n",
      "Requirement already satisfied: watchdog in c:\\users\\gonsa\\appdata\\local\\programs\\python\\python37\\lib\\site-packages (from streamlit) (3.0.0)\n",
      "Requirement already satisfied: jinja2 in c:\\users\\gonsa\\appdata\\roaming\\python\\python37\\site-packages (from altair<6,>=4.0->streamlit) (3.1.4)\n",
      "Requirement already satisfied: jsonschema>=3.0 in c:\\users\\gonsa\\appdata\\local\\programs\\python\\python37\\lib\\site-packages (from altair<6,>=4.0->streamlit) (4.17.3)\n",
      "Requirement already satisfied: toolz in c:\\users\\gonsa\\appdata\\local\\programs\\python\\python37\\lib\\site-packages (from altair<6,>=4.0->streamlit) (0.12.1)\n",
      "Requirement already satisfied: colorama in c:\\users\\gonsa\\appdata\\roaming\\python\\python37\\site-packages (from click<9,>=7.0->streamlit) (0.4.6)\n",
      "Requirement already satisfied: gitdb<5,>=4.0.1 in c:\\users\\gonsa\\appdata\\local\\programs\\python\\python37\\lib\\site-packages (from gitpython!=3.1.19,<4,>=3->streamlit) (4.0.12)\n",
      "Requirement already satisfied: zipp>=0.5 in c:\\users\\gonsa\\appdata\\roaming\\python\\python37\\site-packages (from importlib-metadata<7,>=1.4->streamlit) (3.15.0)\n",
      "Requirement already satisfied: pyparsing>=2.0.2 in c:\\users\\gonsa\\appdata\\local\\programs\\python\\python37\\lib\\site-packages (from packaging<24,>=14.1->streamlit) (3.1.2)\n",
      "Requirement already satisfied: pytz>=2017.3 in c:\\users\\gonsa\\appdata\\roaming\\python\\python37\\site-packages (from pandas<3,>=0.25->streamlit) (2024.1)\n",
      "Requirement already satisfied: pywin32>=226 in c:\\users\\gonsa\\appdata\\local\\programs\\python\\python37\\lib\\site-packages (from pympler<2,>=0.9->streamlit) (306)\n",
      "Requirement already satisfied: six>=1.5 in c:\\users\\gonsa\\appdata\\roaming\\python\\python37\\site-packages (from python-dateutil<3,>=2->streamlit) (1.16.0)\n",
      "Requirement already satisfied: charset-normalizer<4,>=2 in c:\\users\\gonsa\\appdata\\local\\programs\\python\\python37\\lib\\site-packages (from requests<3,>=2.4->streamlit) (3.3.2)\n",
      "Requirement already satisfied: idna<4,>=2.5 in c:\\users\\gonsa\\appdata\\local\\programs\\python\\python37\\lib\\site-packages (from requests<3,>=2.4->streamlit) (3.7)\n",
      "Requirement already satisfied: urllib3<3,>=1.21.1 in c:\\users\\gonsa\\appdata\\local\\programs\\python\\python37\\lib\\site-packages (from requests<3,>=2.4->streamlit) (2.0.7)\n",
      "Requirement already satisfied: certifi>=2017.4.17 in c:\\users\\gonsa\\appdata\\local\\programs\\python\\python37\\lib\\site-packages (from requests<3,>=2.4->streamlit) (2024.7.4)\n",
      "Requirement already satisfied: markdown-it-py>=2.2.0 in c:\\users\\gonsa\\appdata\\local\\programs\\python\\python37\\lib\\site-packages (from rich<14,>=10.11.0->streamlit) (2.2.0)\n",
      "Requirement already satisfied: pygments<3.0.0,>=2.13.0 in c:\\users\\gonsa\\appdata\\local\\programs\\python\\python37\\lib\\site-packages (from rich<14,>=10.11.0->streamlit) (2.17.2)\n",
      "Requirement already satisfied: pytz-deprecation-shim in c:\\users\\gonsa\\appdata\\local\\programs\\python\\python37\\lib\\site-packages (from tzlocal<5,>=1.1->streamlit) (0.1.0.post0)\n",
      "Requirement already satisfied: tzdata in c:\\users\\gonsa\\appdata\\local\\programs\\python\\python37\\lib\\site-packages (from tzlocal<5,>=1.1->streamlit) (2025.2)\n",
      "Requirement already satisfied: backports.zoneinfo in c:\\users\\gonsa\\appdata\\local\\programs\\python\\python37\\lib\\site-packages (from tzlocal<5,>=1.1->streamlit) (0.2.1)\n",
      "Requirement already satisfied: decorator>=3.4.0 in c:\\users\\gonsa\\appdata\\local\\programs\\python\\python37\\lib\\site-packages (from validators<1,>=0.2->streamlit) (5.1.1)\n",
      "Requirement already satisfied: smmap<6,>=3.0.1 in c:\\users\\gonsa\\appdata\\local\\programs\\python\\python37\\lib\\site-packages (from gitdb<5,>=4.0.1->gitpython!=3.1.19,<4,>=3->streamlit) (5.0.2)\n",
      "Requirement already satisfied: MarkupSafe>=2.0 in c:\\users\\gonsa\\appdata\\roaming\\python\\python37\\site-packages (from jinja2->altair<6,>=4.0->streamlit) (2.1.5)\n",
      "Requirement already satisfied: attrs>=17.4.0 in c:\\users\\gonsa\\appdata\\local\\programs\\python\\python37\\lib\\site-packages (from jsonschema>=3.0->altair<6,>=4.0->streamlit) (24.2.0)\n",
      "Requirement already satisfied: importlib-resources>=1.4.0 in c:\\users\\gonsa\\appdata\\local\\programs\\python\\python37\\lib\\site-packages (from jsonschema>=3.0->altair<6,>=4.0->streamlit) (5.12.0)\n",
      "Requirement already satisfied: pkgutil-resolve-name>=1.3.10 in c:\\users\\gonsa\\appdata\\local\\programs\\python\\python37\\lib\\site-packages (from jsonschema>=3.0->altair<6,>=4.0->streamlit) (1.3.10)\n",
      "Requirement already satisfied: pyrsistent!=0.17.0,!=0.17.1,!=0.17.2,>=0.14.0 in c:\\users\\gonsa\\appdata\\local\\programs\\python\\python37\\lib\\site-packages (from jsonschema>=3.0->altair<6,>=4.0->streamlit) (0.19.3)\n",
      "Requirement already satisfied: mdurl~=0.1 in c:\\users\\gonsa\\appdata\\local\\programs\\python\\python37\\lib\\site-packages (from markdown-it-py>=2.2.0->rich<14,>=10.11.0->streamlit) (0.1.2)\n"
     ]
    },
    {
     "name": "stdout",
     "output_type": "stream",
     "text": [
      "\n",
      "added 22 packages in 5s\n",
      "\n",
      "3 packages are looking for funding\n",
      "  run `npm fund` for details\n"
     ]
    },
    {
     "name": "stderr",
     "output_type": "stream",
     "text": [
      "npm notice\n",
      "npm notice New major version of npm available! 10.7.0 -> 11.3.0\n",
      "npm notice Changelog: https://github.com/npm/cli/releases/tag/v11.3.0\n",
      "npm notice To update run: npm install -g npm@11.3.0\n",
      "npm notice\n"
     ]
    }
   ],
   "source": [
    "!pip install streamlit\n",
    "!npm install -g localtunnel"
   ]
  },
  {
   "cell_type": "code",
   "execution_count": 10,
   "id": "6ca15a49",
   "metadata": {},
   "outputs": [
    {
     "name": "stdout",
     "output_type": "stream",
     "text": [
      "your url is: https://two-sides-say.loca.lt\n"
     ]
    },
    {
     "name": "stderr",
     "output_type": "stream",
     "text": [
      "Usage: streamlit run [OPTIONS] TARGET [ARGS]...\n",
      "Try 'streamlit run --help' for help.\n",
      "\n",
      "Error: Invalid value: File does not exist: /content/app.py\n",
      "C:\\Users\\gonsa\\AppData\\Roaming\\npm\\node_modules\\localtunnel\\bin\\lt.js:81\n",
      "    throw err;\n",
      "    ^\n",
      "\n",
      "Error: connection refused: localtunnel.me:26391 (check your firewall settings)\n",
      "    at Socket.<anonymous> (C:\\Users\\gonsa\\AppData\\Roaming\\npm\\node_modules\\localtunnel\\lib\\TunnelCluster.js:52:11)\n",
      "    at Socket.emit (node:events:519:28)\n",
      "    at emitErrorNT (node:internal/streams/destroy:169:8)\n",
      "    at emitErrorCloseNT (node:internal/streams/destroy:128:3)\n",
      "    at process.processTicksAndRejections (node:internal/process/task_queues:82:21)\n",
      "\n",
      "Node.js v20.15.1\n"
     ]
    }
   ],
   "source": [
    "!streamlit run /content/app.py & npx localtunnel --port 8501"
   ]
  },
  {
   "cell_type": "code",
   "execution_count": 11,
   "id": "47f30484",
   "metadata": {},
   "outputs": [
    {
     "name": "stdout",
     "output_type": "stream",
     "text": [
      "2402:8100:31be:fc42:cc1e:2314:c363:b9e5\n"
     ]
    },
    {
     "name": "stderr",
     "output_type": "stream",
     "text": [
      "  % Total    % Received % Xferd  Average Speed   Time    Time     Time  Current\n",
      "                                 Dload  Upload   Total   Spent    Left  Speed\n",
      "\n",
      "  0     0    0     0    0     0      0      0 --:--:-- --:--:-- --:--:--     0\n",
      "  0     0    0     0    0     0      0      0 --:--:-- --:--:-- --:--:--     0\n",
      "100    39  100    39    0     0     60      0 --:--:-- --:--:-- --:--:--    60\n"
     ]
    }
   ],
   "source": [
    "!curl ifconfig.me"
   ]
  },
  {
   "cell_type": "code",
   "execution_count": 12,
   "id": "62aee518",
   "metadata": {},
   "outputs": [
    {
     "name": "stdout",
     "output_type": "stream",
     "text": [
      "Total number of training images: 2540\n",
      "Total number of testing images: 300\n",
      "Total number of validation images: 100\n"
     ]
    }
   ],
   "source": [
    "num_train_images = sum([len(files) for r, d, files in os.walk(train_dir)])\n",
    "num_test_images = sum([len(files) for r, d, files in os.walk(test_dir)])\n",
    "num_valid_images = sum([len(files) for r, d, files in os.walk(valid_dir)])\n",
    "\n",
    "print(\"Total number of training images:\", num_train_images)\n",
    "print(\"Total number of testing images:\", num_test_images)\n",
    "print(\"Total number of validation images:\", num_valid_images)"
   ]
  },
  {
   "cell_type": "code",
   "execution_count": 1,
   "id": "cd0b2b4b",
   "metadata": {},
   "outputs": [
    {
     "ename": "NameError",
     "evalue": "name 'history' is not defined",
     "output_type": "error",
     "traceback": [
      "\u001b[1;31m---------------------------------------------------------------------------\u001b[0m",
      "\u001b[1;31mNameError\u001b[0m                                 Traceback (most recent call last)",
      "\u001b[1;32m~\\AppData\\Local\\Temp\\ipykernel_13512\\1520502763.py\u001b[0m in \u001b[0;36m<module>\u001b[1;34m\u001b[0m\n\u001b[0;32m      6\u001b[0m \u001b[1;31m# Accuracy plot\u001b[0m\u001b[1;33m\u001b[0m\u001b[1;33m\u001b[0m\u001b[1;33m\u001b[0m\u001b[0m\n\u001b[0;32m      7\u001b[0m \u001b[0mplt\u001b[0m\u001b[1;33m.\u001b[0m\u001b[0msubplot\u001b[0m\u001b[1;33m(\u001b[0m\u001b[1;36m1\u001b[0m\u001b[1;33m,\u001b[0m \u001b[1;36m2\u001b[0m\u001b[1;33m,\u001b[0m \u001b[1;36m1\u001b[0m\u001b[1;33m)\u001b[0m\u001b[1;33m\u001b[0m\u001b[1;33m\u001b[0m\u001b[0m\n\u001b[1;32m----> 8\u001b[1;33m \u001b[0mplt\u001b[0m\u001b[1;33m.\u001b[0m\u001b[0mplot\u001b[0m\u001b[1;33m(\u001b[0m\u001b[0mhistory\u001b[0m\u001b[1;33m.\u001b[0m\u001b[0mhistory\u001b[0m\u001b[1;33m[\u001b[0m\u001b[1;34m'accuracy'\u001b[0m\u001b[1;33m]\u001b[0m\u001b[1;33m,\u001b[0m \u001b[0mlabel\u001b[0m\u001b[1;33m=\u001b[0m\u001b[1;34m'Train Accuracy'\u001b[0m\u001b[1;33m,\u001b[0m \u001b[0mlinestyle\u001b[0m\u001b[1;33m=\u001b[0m\u001b[1;34m'--'\u001b[0m\u001b[1;33m,\u001b[0m \u001b[0mmarker\u001b[0m\u001b[1;33m=\u001b[0m\u001b[1;34m'o'\u001b[0m\u001b[1;33m)\u001b[0m\u001b[1;33m\u001b[0m\u001b[1;33m\u001b[0m\u001b[0m\n\u001b[0m\u001b[0;32m      9\u001b[0m \u001b[0mplt\u001b[0m\u001b[1;33m.\u001b[0m\u001b[0mplot\u001b[0m\u001b[1;33m(\u001b[0m\u001b[0mhistory\u001b[0m\u001b[1;33m.\u001b[0m\u001b[0mhistory\u001b[0m\u001b[1;33m[\u001b[0m\u001b[1;34m'val_accuracy'\u001b[0m\u001b[1;33m]\u001b[0m\u001b[1;33m,\u001b[0m \u001b[0mlabel\u001b[0m\u001b[1;33m=\u001b[0m\u001b[1;34m'Validation Accuracy'\u001b[0m\u001b[1;33m,\u001b[0m \u001b[0mlinestyle\u001b[0m\u001b[1;33m=\u001b[0m\u001b[1;34m'--'\u001b[0m\u001b[1;33m,\u001b[0m \u001b[0mmarker\u001b[0m\u001b[1;33m=\u001b[0m\u001b[1;34m'o'\u001b[0m\u001b[1;33m)\u001b[0m\u001b[1;33m\u001b[0m\u001b[1;33m\u001b[0m\u001b[0m\n\u001b[0;32m     10\u001b[0m \u001b[0mplt\u001b[0m\u001b[1;33m.\u001b[0m\u001b[0mtitle\u001b[0m\u001b[1;33m(\u001b[0m\u001b[1;34m'Model Accuracy Over Epochs'\u001b[0m\u001b[1;33m)\u001b[0m\u001b[1;33m\u001b[0m\u001b[1;33m\u001b[0m\u001b[0m\n",
      "\u001b[1;31mNameError\u001b[0m: name 'history' is not defined"
     ]
    },
    {
     "data": {
      "image/png": "[encoded data removed]",
      "text/plain": [
       "<Figure size 1400x600 with 1 Axes>"
      ]
     },
     "metadata": {},
     "output_type": "display_data"
    }
   ],
   "source": [
    "# Plot training and validation accuracy/loss\n",
    "import matplotlib.pyplot as plt\n",
    "\n",
    "plt.figure(figsize=(14, 6))\n",
    "\n",
    "# Accuracy plot\n",
    "plt.subplot(1, 2, 1)\n",
    "plt.plot(history.history['accuracy'], label='Train Accuracy', linestyle='--', marker='o')\n",
    "plt.plot(history.history['val_accuracy'], label='Validation Accuracy', linestyle='--', marker='o')\n",
    "plt.title('Model Accuracy Over Epochs')\n",
    "plt.xlabel('Epoch')\n",
    "plt.ylabel('Accuracy')\n",
    "plt.legend()\n",
    "plt.grid(True)\n",
    "\n",
    "# Loss plot\n",
    "plt.subplot(1, 2, 2)\n",
    "plt.plot(history.history['loss'], label='Train Loss', linestyle='--', marker='o')\n",
    "plt.plot(history.history['val_loss'], label='Validation Loss', linestyle='--', marker='o')\n",
    "plt.title('Model Loss Over Epochs')\n",
    "plt.xlabel('Epoch')\n",
    "plt.ylabel('Loss')\n",
    "plt.legend()\n",
    "plt.grid(True)\n",
    "\n",
    "plt.tight_layout()\n",
    "plt.show()\n",
    "\n",
    "# Confusion Matrix\n",
    "from sklearn.metrics import confusion_matrix, ConfusionMatrixDisplay\n",
    "import numpy as np\n",
    "\n",
    "# Get true labels and predicted labels from validation set\n",
    "test_data.reset()  # Reset iterator \n",
    "y_true = []\n",
    "y_pred = []\n",
    "\n",
    "for i in range(len(test_data)):\n",
    "    X_batch, y_batch = test_data[i]\n",
    "    y_true.extend(y_batch)\n",
    "    preds = model.predict(X_batch)\n",
    "    y_pred.extend(preds.flatten())\n",
    "\n",
    "# Convert predictions to binary labels\n",
    "y_pred_bin = [1 if p > 0.5 else 0 for p in y_pred]\n",
    "\n",
    "# Compute confusion matrix\n",
    "cm = confusion_matrix(y_true, y_pred_bin)\n",
    "disp = ConfusionMatrixDisplay(confusion_matrix=cm, display_labels=['Non_Autistic', 'Autistic'])\n",
    "disp.plot(cmap='Blues')\n",
    "plt.title(\"Confusion Matrix\")\n",
    "plt.show()"
   ]
  },
  {
   "cell_type": "code",
   "execution_count": null,
   "id": "5217240e",
   "metadata": {},
   "outputs": [],
   "source": []
  }
 ],
 "metadata": {
  "kernelspec": {
   "display_name": "Python 3 (ipykernel)",
   "language": "python",
   "name": "python3"
  },
  "language_info": {
   "codemirror_mode": {
    "name": "ipython",
    "version": 3
   },
   "file_extension": ".py",
   "mimetype": "text/x-python",
   "name": "python",
   "nbconvert_exporter": "python",
   "pygments_lexer": "ipython3",
   "version": "3.7.4"
  }
 },
 "nbformat": 4,
 "nbformat_minor": 5
}
